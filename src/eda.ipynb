{
 "cells": [
  {
   "cell_type": "code",
   "execution_count": 1,
   "metadata": {},
   "outputs": [],
   "source": [
    "%%capture capt\n",
    "!pip install -r requirements.txt"
   ]
  },
  {
   "cell_type": "code",
   "execution_count": 2,
   "metadata": {},
   "outputs": [],
   "source": [
    "import matplotlib.pyplot as plt\n",
    "import numpy as np\n",
    "from IPython.display import clear_output\n",
    "import pandas as pd\n",
    "from tqdm import tqdm\n",
    "\n",
    "import json\n",
    "import yaml\n",
    "import re\n",
    "\n",
    "pd.set_option('future.no_silent_downcasting', True)"
   ]
  },
  {
   "cell_type": "markdown",
   "metadata": {},
   "source": [
    "# Load data and tokens"
   ]
  },
  {
   "cell_type": "code",
   "execution_count": 3,
   "metadata": {},
   "outputs": [],
   "source": [
    "with open('../data/entities.json', 'r') as f:\n",
    "    data = json.load(f)"
   ]
  },
  {
   "cell_type": "code",
   "execution_count": 4,
   "metadata": {},
   "outputs": [],
   "source": [
    "with open('../data/tokens.yml', 'r') as f:\n",
    "    tokens = yaml.safe_load(f)\n",
    "    \n",
    "token_to_col = {}\n",
    "for col in tokens.keys():\n",
    "    token = tokens[col]['start']\n",
    "    token_to_col[token] = col"
   ]
  },
  {
   "cell_type": "markdown",
   "metadata": {},
   "source": [
    "# Preprocessing"
   ]
  },
  {
   "cell_type": "code",
   "execution_count": 5,
   "metadata": {},
   "outputs": [],
   "source": [
    "def blank_dict(tokens=tokens):\n",
    "    d = {}\n",
    "    for col in list(tokens.keys()):\n",
    "        d[col] = None\n",
    "    return d\n",
    "\n",
    "def split_by_token(line, token_to_col=token_to_col):\n",
    "    tokens_to_split = list(token_to_col.keys())\n",
    "    pattern = '(' + '|'.join(re.escape(token) for token in tokens_to_split) + ')'\n",
    "    \n",
    "    splits = re.split(pattern, line)\n",
    "    # Filter out empty strings and trim kept strings\n",
    "    splits = [part.strip() for part in splits if part]\n",
    "    return splits\n",
    "\n",
    "def split_to_dict(split, token_to_col=token_to_col, dict_split=None):\n",
    "    if dict_split is None:\n",
    "        dict_split = blank_dict()\n",
    "    for i in range(0, len(split), 2):\n",
    "        token = split[i]\n",
    "        element = split[i+1]\n",
    "        column = token_to_col[token]\n",
    "        dict_split[column] = element\n",
    "    return dict_split"
   ]
  },
  {
   "cell_type": "code",
   "execution_count": 6,
   "metadata": {},
   "outputs": [
    {
     "name": "stderr",
     "output_type": "stream",
     "text": [
      "100%|██████████| 1218/1218 [00:00<00:00, 3285.06it/s]\n"
     ]
    }
   ],
   "source": [
    "df_dict = {}\n",
    "counter = 0\n",
    "for key in tqdm(data.keys()): \n",
    "    for line in data[key].split('\\n'):\n",
    "        try:\n",
    "            split = split_by_token(line)\n",
    "            split_dict = split_to_dict(split)\n",
    "            df_dict[counter] = split_dict\n",
    "                    \n",
    "            counter += 1\n",
    "        except:\n",
    "            pass"
   ]
  },
  {
   "cell_type": "code",
   "execution_count": 7,
   "metadata": {},
   "outputs": [],
   "source": [
    "df = pd.DataFrame().from_dict(df_dict, orient='index').fillna(value=np.nan)\n",
    "\n",
    "indices_to_remove = []\n",
    "for i in range(len(df)):\n",
    "    if np.all(df.iloc[i].isna()):\n",
    "        indices_to_remove.append(i)\n",
    "\n",
    "df = df.loc[~df.index.isin(indices_to_remove)]"
   ]
  },
  {
   "cell_type": "code",
   "execution_count": 8,
   "metadata": {},
   "outputs": [],
   "source": [
    "X = df.drop(columns=['surname_household'])\n",
    "y = df['surname_household'].apply(\n",
    "                                lambda x: 0 if pd.isna(x) else 1\n",
    "                            )"
   ]
  },
  {
   "cell_type": "markdown",
   "metadata": {},
   "source": [
    "# Data Statistics"
   ]
  },
  {
   "cell_type": "code",
   "execution_count": 9,
   "metadata": {},
   "outputs": [
    {
     "data": {
      "text/html": [
       "<div>\n",
       "<style scoped>\n",
       "    .dataframe tbody tr th:only-of-type {\n",
       "        vertical-align: middle;\n",
       "    }\n",
       "\n",
       "    .dataframe tbody tr th {\n",
       "        vertical-align: top;\n",
       "    }\n",
       "\n",
       "    .dataframe thead th {\n",
       "        text-align: right;\n",
       "    }\n",
       "</style>\n",
       "<table border=\"1\" class=\"dataframe\">\n",
       "  <thead>\n",
       "    <tr style=\"text-align: right;\">\n",
       "      <th></th>\n",
       "      <th>age</th>\n",
       "      <th>birth_date</th>\n",
       "      <th>civil_status</th>\n",
       "      <th>education_level</th>\n",
       "      <th>employer</th>\n",
       "      <th>firstname</th>\n",
       "      <th>link</th>\n",
       "      <th>lob</th>\n",
       "      <th>maiden_name</th>\n",
       "      <th>nationality</th>\n",
       "      <th>observation</th>\n",
       "      <th>occupation</th>\n",
       "      <th>surname</th>\n",
       "    </tr>\n",
       "  </thead>\n",
       "  <tbody>\n",
       "    <tr>\n",
       "      <th>count</th>\n",
       "      <td>16435</td>\n",
       "      <td>7344</td>\n",
       "      <td>10704</td>\n",
       "      <td>0</td>\n",
       "      <td>2911</td>\n",
       "      <td>24930</td>\n",
       "      <td>20735</td>\n",
       "      <td>9235</td>\n",
       "      <td>0</td>\n",
       "      <td>13314</td>\n",
       "      <td>602</td>\n",
       "      <td>16178</td>\n",
       "      <td>19159</td>\n",
       "    </tr>\n",
       "    <tr>\n",
       "      <th>unique</th>\n",
       "      <td>253</td>\n",
       "      <td>158</td>\n",
       "      <td>6</td>\n",
       "      <td>0</td>\n",
       "      <td>1087</td>\n",
       "      <td>2456</td>\n",
       "      <td>937</td>\n",
       "      <td>2923</td>\n",
       "      <td>0</td>\n",
       "      <td>73</td>\n",
       "      <td>310</td>\n",
       "      <td>2056</td>\n",
       "      <td>8120</td>\n",
       "    </tr>\n",
       "    <tr>\n",
       "      <th>top</th>\n",
       "      <td>2</td>\n",
       "      <td>1901</td>\n",
       "      <td>Garçon</td>\n",
       "      <td>NaN</td>\n",
       "      <td>patron</td>\n",
       "      <td>Marie</td>\n",
       "      <td>chef</td>\n",
       "      <td>idem</td>\n",
       "      <td>NaN</td>\n",
       "      <td>française</td>\n",
       "      <td>idem</td>\n",
       "      <td>idem</td>\n",
       "      <td>idem</td>\n",
       "    </tr>\n",
       "    <tr>\n",
       "      <th>freq</th>\n",
       "      <td>337</td>\n",
       "      <td>138</td>\n",
       "      <td>2824</td>\n",
       "      <td>NaN</td>\n",
       "      <td>644</td>\n",
       "      <td>2758</td>\n",
       "      <td>3022</td>\n",
       "      <td>3377</td>\n",
       "      <td>NaN</td>\n",
       "      <td>7916</td>\n",
       "      <td>88</td>\n",
       "      <td>3695</td>\n",
       "      <td>669</td>\n",
       "    </tr>\n",
       "  </tbody>\n",
       "</table>\n",
       "</div>"
      ],
      "text/plain": [
       "          age birth_date civil_status education_level employer firstname  \\\n",
       "count   16435       7344        10704               0     2911     24930   \n",
       "unique    253        158            6               0     1087      2456   \n",
       "top         2       1901       Garçon             NaN   patron     Marie   \n",
       "freq      337        138         2824             NaN      644      2758   \n",
       "\n",
       "         link   lob maiden_name nationality observation occupation surname  \n",
       "count   20735  9235           0       13314         602      16178   19159  \n",
       "unique    937  2923           0          73         310       2056    8120  \n",
       "top      chef  idem         NaN   française        idem       idem    idem  \n",
       "freq     3022  3377         NaN        7916          88       3695     669  "
      ]
     },
     "execution_count": 9,
     "metadata": {},
     "output_type": "execute_result"
    }
   ],
   "source": [
    "X.describe()"
   ]
  },
  {
   "cell_type": "code",
   "execution_count": 10,
   "metadata": {},
   "outputs": [
    {
     "name": "stdout",
     "output_type": "stream",
     "text": [
      "There are 22.49% of people within the database that have a household surname.\n"
     ]
    }
   ],
   "source": [
    "print(f\"There are {100*y.mean():.2f}% of people within the database that have a household surname.\")"
   ]
  },
  {
   "cell_type": "code",
   "execution_count": 11,
   "metadata": {},
   "outputs": [
    {
     "name": "stdout",
     "output_type": "stream",
     "text": [
      "There is a total of 25074 people registered in the database.\n"
     ]
    }
   ],
   "source": [
    "print(f\"There is a total of {len(X)} people registered in the database.\")"
   ]
  },
  {
   "cell_type": "code",
   "execution_count": 12,
   "metadata": {},
   "outputs": [
    {
     "name": "stdout",
     "output_type": "stream",
     "text": [
      "There are 0 rows in the database that have no information whatsoever\n"
     ]
    }
   ],
   "source": [
    "n = 0\n",
    "for i in range(len(df)):\n",
    "    if np.all(pd.isna(df.iloc[i])):\n",
    "        n += 1\n",
    "print(f\"There are {n} rows in the database that have no information whatsoever\")"
   ]
  },
  {
   "cell_type": "markdown",
   "metadata": {},
   "source": [
    "# Profiling"
   ]
  },
  {
   "cell_type": "markdown",
   "metadata": {},
   "source": [
    "### Mean age"
   ]
  },
  {
   "cell_type": "code",
   "execution_count": 13,
   "metadata": {},
   "outputs": [],
   "source": [
    "mean_age = 0\n",
    "age_count = 0\n",
    "\n",
    "for i in range(len(df)):\n",
    "    try:\n",
    "        age = float(df.iloc[i].age)\n",
    "        if not pd.isna(age):\n",
    "            mean_age += age\n",
    "            age_count += 1\n",
    "    except:\n",
    "        pass"
   ]
  },
  {
   "cell_type": "code",
   "execution_count": 14,
   "metadata": {},
   "outputs": [
    {
     "name": "stdout",
     "output_type": "stream",
     "text": [
      "For people whose age is available, the average age is 33.9280\n"
     ]
    }
   ],
   "source": [
    "mean_age /= age_count\n",
    "print(f\"For people whose age is available, the average age is {mean_age:.4f}\")"
   ]
  },
  {
   "cell_type": "markdown",
   "metadata": {},
   "source": [
    "### Civil status"
   ]
  },
  {
   "cell_type": "code",
   "execution_count": 15,
   "metadata": {},
   "outputs": [],
   "source": [
    "from matplotlib.ticker import PercentFormatter"
   ]
  },
  {
   "cell_type": "code",
   "execution_count": 30,
   "metadata": {},
   "outputs": [
    {
     "data": {
      "image/png": "[encoded data removed]",
      "text/plain": [
       "<Figure size 700x400 with 1 Axes>"
      ]
     },
     "metadata": {},
     "output_type": "display_data"
    }
   ],
   "source": [
    "plt.figure(figsize=(7,4))\n",
    "labels, counts = np.unique(df.civil_status.dropna(), return_counts=True)\n",
    "\n",
    "labels = list(labels) + ['NaN']\n",
    "counts = np.array(list(counts) + [len(df) - len(df.civil_status.dropna())])\n",
    "\n",
    "counts = counts / len(df)\n",
    "plt.bar(labels, counts, align='center', color = 'black')\n",
    "plt.gca().set_xticks(labels)\n",
    "plt.gca().yaxis.set_major_formatter(PercentFormatter(1))\n",
    "plt.title('Civil status')\n",
    "plt.show()"
   ]
  },
  {
   "cell_type": "code",
   "execution_count": 32,
   "metadata": {},
   "outputs": [
    {
     "data": {
      "image/png": "[encoded data removed]",
      "text/plain": [
       "<Figure size 700x400 with 1 Axes>"
      ]
     },
     "metadata": {},
     "output_type": "display_data"
    }
   ],
   "source": [
    "plt.figure(figsize=(7,4))\n",
    "labels, counts = np.unique(df.civil_status.dropna(), return_counts=True)\n",
    "counts = counts / len(df.civil_status.dropna())\n",
    "plt.bar(labels, counts, align='center', color = 'black')\n",
    "plt.gca().set_xticks(labels)\n",
    "plt.gca().yaxis.set_major_formatter(PercentFormatter(1))\n",
    "plt.title('Civil status - available data')\n",
    "plt.show()"
   ]
  }
 ],
 "metadata": {
  "kernelspec": {
   "display_name": "Python 3 (ipykernel)",
   "language": "python",
   "name": "python3"
  },
  "language_info": {
   "codemirror_mode": {
    "name": "ipython",
    "version": 3
   },
   "file_extension": ".py",
   "mimetype": "text/x-python",
   "name": "python",
   "nbconvert_exporter": "python",
   "pygments_lexer": "ipython3",
   "version": "3.11.6"
  }
 },
 "nbformat": 4,
 "nbformat_minor": 4
}
