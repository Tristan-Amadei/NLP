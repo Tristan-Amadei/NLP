{
 "cells": [
  {
   "cell_type": "code",
   "execution_count": 1,
   "metadata": {},
   "outputs": [],
   "source": [
    "%%capture capt\n",
    "!pip install -r requirements.txt"
   ]
  },
  {
   "cell_type": "code",
   "execution_count": 2,
   "metadata": {},
   "outputs": [],
   "source": [
    "import matplotlib.pyplot as plt\n",
    "import numpy as np\n",
    "from IPython.display import clear_output\n",
    "import pandas as pd\n",
    "from tqdm import tqdm\n",
    "\n",
    "import json\n",
    "import yaml\n",
    "import re\n",
    "\n",
    "pd.set_option('future.no_silent_downcasting', True)"
   ]
  },
  {
   "cell_type": "markdown",
   "metadata": {},
   "source": [
    "# DATA"
   ]
  },
  {
   "cell_type": "markdown",
   "metadata": {},
   "source": [
    "## Load data and tokens"
   ]
  },
  {
   "cell_type": "code",
   "execution_count": 3,
   "metadata": {},
   "outputs": [],
   "source": [
    "with open('../data/entities.json', 'r') as f:\n",
    "    data = json.load(f)"
   ]
  },
  {
   "cell_type": "code",
   "execution_count": 4,
   "metadata": {},
   "outputs": [],
   "source": [
    "with open('../data/tokens.yml', 'r') as f:\n",
    "    tokens = yaml.safe_load(f)\n",
    "    \n",
    "token_to_col = {}\n",
    "for col in tokens.keys():\n",
    "    token = tokens[col]['start']\n",
    "    token_to_col[token] = col"
   ]
  },
  {
   "cell_type": "markdown",
   "metadata": {},
   "source": [
    "## Preprocessing"
   ]
  },
  {
   "cell_type": "code",
   "execution_count": 5,
   "metadata": {},
   "outputs": [],
   "source": [
    "def blank_dict(tokens=tokens):\n",
    "    d = {}\n",
    "    for col in list(tokens.keys()):\n",
    "        d[col] = None\n",
    "    return d\n",
    "\n",
    "def split_by_token(line, token_to_col=token_to_col):\n",
    "    tokens_to_split = list(token_to_col.keys())\n",
    "    pattern = '(' + '|'.join(re.escape(token) for token in tokens_to_split) + ')'\n",
    "    \n",
    "    splits = re.split(pattern, line)\n",
    "    # Filter out empty strings and trim kept strings\n",
    "    splits = [part.strip() for part in splits if part]\n",
    "    return splits\n",
    "\n",
    "def split_to_dict(split, token_to_col=token_to_col, dict_split=None):\n",
    "    if dict_split is None:\n",
    "        dict_split = blank_dict()\n",
    "    for i in range(0, len(split), 2):\n",
    "        token = split[i]\n",
    "        element = split[i+1]\n",
    "        column = token_to_col[token]\n",
    "        dict_split[column] = element\n",
    "    return dict_split"
   ]
  },
  {
   "cell_type": "code",
   "execution_count": 6,
   "metadata": {},
   "outputs": [
    {
     "name": "stderr",
     "output_type": "stream",
     "text": [
      "100%|██████████| 1218/1218 [00:00<00:00, 1909.05it/s]\n"
     ]
    }
   ],
   "source": [
    "df_dict = {}\n",
    "counter = 0\n",
    "for key in tqdm(data.keys()): \n",
    "    for line in data[key].split('\\n'):\n",
    "        try:\n",
    "            split = split_by_token(line)\n",
    "            split_dict = split_to_dict(split)\n",
    "            df_dict[counter] = split_dict\n",
    "                    \n",
    "            counter += 1\n",
    "        except:\n",
    "            pass"
   ]
  },
  {
   "cell_type": "code",
   "execution_count": 7,
   "metadata": {},
   "outputs": [],
   "source": [
    "df = pd.DataFrame().from_dict(df_dict, orient='index').fillna(value=np.nan)\n",
    "\n",
    "indices_to_remove = []\n",
    "for i in range(len(df)):\n",
    "    if np.all(df.iloc[i].isna()):\n",
    "        indices_to_remove.append(i)\n",
    "\n",
    "df = df.loc[~df.index.isin(indices_to_remove)]"
   ]
  },
  {
   "cell_type": "code",
   "execution_count": 8,
   "metadata": {},
   "outputs": [],
   "source": [
    "X = df.drop(columns=['surname_household'])\n",
    "y = df['surname_household'].apply(\n",
    "                                lambda x: 0 if pd.isna(x) else 1\n",
    "                            )"
   ]
  },
  {
   "cell_type": "code",
   "execution_count": 11,
   "metadata": {},
   "outputs": [
    {
     "data": {
      "text/plain": [
       "'\\\\begin{tabular}{llllllllllllll}\\n\\\\toprule\\n & age & birth_date & civil_status & education_level & employer & firstname & link & lob & maiden_name & nationality & observation & occupation & surname \\\\\\\\\\n\\\\midrule\\n0 & 25 & NaN & Garçon & NaN & NaN & Cyrille & NaN & NaN & NaN & française & NaN & menuisier & Breton \\\\\\\\\\n1 & 30 & NaN & Garçon & NaN & NaN & Auguste & NaN & NaN & NaN & Piémontaise & NaN & vitrier & NaN \\\\\\\\\\n2 & 24 & NaN & Garçon & NaN & NaN & Pierre & NaN & NaN & NaN & Piémontaise & NaN & vitrier & NaN \\\\\\\\\\n3 & 48 & NaN & Homme marié & NaN & NaN & Alexandre & NaN & NaN & NaN & française & NaN & prop re & NaN \\\\\\\\\\n4 & 30 & NaN & NaN & NaN & NaN & Zélie & sa fe & NaN & NaN & française & NaN & prop re & Vignat \\\\\\\\\\n5 & 24 & NaN & Fille & NaN & NaN & Caroline & NaN & NaN & NaN & française & NaN & domestique & Houy \\\\\\\\\\n6 & 24 & NaN & Fille & NaN & NaN & Esther & NaN & NaN & NaN & française & NaN & fe de chambre & Violet \\\\\\\\\\n7 & 46 & NaN & Garçon & NaN & NaN & François Jules & NaN & NaN & NaN & française & NaN & aumônier du collège & NaN \\\\\\\\\\n8 & 49 & NaN & Femme mariée & NaN & NaN & Thérèse & NaN & NaN & NaN & française & NaN & domestique & Apelmeau \\\\\\\\\\n9 & 40 & NaN & Homme marié & NaN & NaN & NaN & NaN & NaN & NaN & française & NaN & NaN & NaN \\\\\\\\\\n\\\\bottomrule\\n\\\\end{tabular}\\n'"
      ]
     },
     "execution_count": 11,
     "metadata": {},
     "output_type": "execute_result"
    }
   ],
   "source": [
    "X.head(10).to_latex()"
   ]
  }
 ],
 "metadata": {
  "kernelspec": {
   "display_name": "Python 3 (ipykernel)",
   "language": "python",
   "name": "python3"
  },
  "language_info": {
   "codemirror_mode": {
    "name": "ipython",
    "version": 3
   },
   "file_extension": ".py",
   "mimetype": "text/x-python",
   "name": "python",
   "nbconvert_exporter": "python",
   "pygments_lexer": "ipython3",
   "version": "3.11.6"
  }
 },
 "nbformat": 4,
 "nbformat_minor": 4
}
